{
 "cells": [
  {
   "cell_type": "code",
   "execution_count": 2,
   "metadata": {},
   "outputs": [
    {
     "ename": "NameError",
     "evalue": "name 'f' is not defined",
     "output_type": "error",
     "traceback": [
      "\u001b[1;31m---------------------------------------------------------------------------\u001b[0m",
      "\u001b[1;31mNameError\u001b[0m                                 Traceback (most recent call last)",
      "\u001b[1;32m<ipython-input-2-f5971e2f9db7>\u001b[0m in \u001b[0;36m<module>\u001b[1;34m\u001b[0m\n\u001b[0;32m     14\u001b[0m     \u001b[1;32mreturn\u001b[0m \u001b[0mintervalle\u001b[0m\u001b[1;33m[\u001b[0m\u001b[1;36m1\u001b[0m\u001b[1;33m]\u001b[0m\u001b[1;33m\u001b[0m\u001b[1;33m\u001b[0m\u001b[0m\n\u001b[0;32m     15\u001b[0m \u001b[1;33m\u001b[0m\u001b[0m\n\u001b[1;32m---> 16\u001b[1;33m \u001b[0mprint\u001b[0m\u001b[1;33m(\u001b[0m\u001b[0mracine\u001b[0m\u001b[1;33m(\u001b[0m\u001b[1;36m10\u001b[0m\u001b[1;33m)\u001b[0m\u001b[1;33m)\u001b[0m\u001b[1;33m\u001b[0m\u001b[1;33m\u001b[0m\u001b[0m\n\u001b[0m\u001b[0;32m     17\u001b[0m \u001b[1;33m\u001b[0m\u001b[0m\n\u001b[0;32m     18\u001b[0m \u001b[1;33m\u001b[0m\u001b[0m\n",
      "\u001b[1;32m<ipython-input-2-f5971e2f9db7>\u001b[0m in \u001b[0;36mracine\u001b[1;34m(N)\u001b[0m\n\u001b[0;32m      7\u001b[0m \u001b[1;33m\u001b[0m\u001b[0m\n\u001b[0;32m      8\u001b[0m     \u001b[1;32mwhile\u001b[0m \u001b[0mcompteur\u001b[0m \u001b[1;33m<\u001b[0m \u001b[0mN\u001b[0m\u001b[1;33m:\u001b[0m\u001b[1;33m\u001b[0m\u001b[1;33m\u001b[0m\u001b[0m\n\u001b[1;32m----> 9\u001b[1;33m         \u001b[1;32mif\u001b[0m \u001b[0mf\u001b[0m\u001b[1;33m(\u001b[0m\u001b[0mintervalle\u001b[0m\u001b[1;33m[\u001b[0m\u001b[1;36m0\u001b[0m\u001b[1;33m]\u001b[0m\u001b[1;33m)\u001b[0m\u001b[1;33m*\u001b[0m\u001b[0mf\u001b[0m\u001b[1;33m(\u001b[0m\u001b[0mintervalle\u001b[0m\u001b[1;33m[\u001b[0m\u001b[1;36m1\u001b[0m\u001b[1;33m]\u001b[0m\u001b[1;33m)\u001b[0m \u001b[1;33m<\u001b[0m\u001b[1;36m0\u001b[0m \u001b[1;33m:\u001b[0m\u001b[1;33m\u001b[0m\u001b[1;33m\u001b[0m\u001b[0m\n\u001b[0m\u001b[0;32m     10\u001b[0m             \u001b[0mintervalle\u001b[0m \u001b[1;33m=\u001b[0m \u001b[1;33m[\u001b[0m\u001b[0mintervalle\u001b[0m\u001b[1;33m[\u001b[0m\u001b[1;36m0\u001b[0m\u001b[1;33m]\u001b[0m\u001b[1;33m,\u001b[0m\u001b[1;33m(\u001b[0m\u001b[0mintervalle\u001b[0m\u001b[1;33m[\u001b[0m\u001b[1;36m0\u001b[0m\u001b[1;33m]\u001b[0m\u001b[1;33m+\u001b[0m\u001b[0mintervalle\u001b[0m\u001b[1;33m[\u001b[0m\u001b[1;36m1\u001b[0m\u001b[1;33m]\u001b[0m\u001b[1;33m)\u001b[0m\u001b[1;33m/\u001b[0m\u001b[1;36m2\u001b[0m\u001b[1;33m,\u001b[0m\u001b[0mintervalle\u001b[0m\u001b[1;33m[\u001b[0m\u001b[1;36m1\u001b[0m\u001b[1;33m]\u001b[0m\u001b[1;33m]\u001b[0m\u001b[1;33m\u001b[0m\u001b[1;33m\u001b[0m\u001b[0m\n\u001b[0;32m     11\u001b[0m         \u001b[1;32melse\u001b[0m\u001b[1;33m:\u001b[0m\u001b[1;33m\u001b[0m\u001b[1;33m\u001b[0m\u001b[0m\n",
      "\u001b[1;31mNameError\u001b[0m: name 'f' is not defined"
     ]
    }
   ],
   "source": [
    "#Exercice 1\n",
    "\n",
    "def racine(N):\n",
    "    import numpy as np\n",
    "    intervalle = [0,0.5,1]\n",
    "    compteur=0\n",
    "    \n",
    "    while compteur < N:\n",
    "        if f(intervalle[0])*f(intervalle[1]) <0 :\n",
    "            intervalle = [intervalle[0],(intervalle[0]+intervalle[1])/2,intervalle[1]]\n",
    "        else:\n",
    "            intervalle = [intervalle[1],(intervalle[0]+intervalle[1])/2,intervalle[0]]\n",
    "        compteur=compteur +1\n",
    "    return intervalle[1]\n",
    "\n",
    "print(racine(10))\n",
    "\n",
    "\n"
   ]
  },
  {
   "cell_type": "code",
   "execution_count": null,
   "metadata": {},
   "outputs": [],
   "source": []
  },
  {
   "cell_type": "code",
   "execution_count": 10,
   "metadata": {
    "scrolled": true
   },
   "outputs": [
    {
     "name": "stdout",
     "output_type": "stream",
     "text": [
      "Carré magique d'ordre 11:\n",
      "56  69  82  95  108  121   2  15  28  41  54 = 671\n",
      "55  57  70  83  96  109  111   3  16  29  42 = 671\n",
      "43  45  58  71  84  97  110  112   4  17  30 = 671\n",
      "31  44  46  59  72  85  98  100  113   5  18 = 671\n",
      "19  32  34  47  60  73  86  99  101  114   6 = 671\n",
      " 7  20  33  35  48  61  74  87  89  102  115 = 671\n",
      "116   8  21  23  36  49  62  75  88  90  103 = 671\n",
      "104  117   9  22  24  37  50  63  76  78  91 = 671\n",
      "92  105  118  10  12  25  38  51  64  77  79 = 671\n",
      "80  93  106  119  11  13  26  39  52  65  67 = 671\n",
      "68  81  94  107  120   1  14  27  40  53  66 = 671\n",
      "==  ==  ==  ==  ==  ==  ==  ==  ==  ==  ==\n",
      "671  671  671  671  671  671  671  671  671  671  671\n"
     ]
    }
   ],
   "source": [
    "n = 11\n",
    "\n",
    "# On vérifie que l'ordre est bien impair\n",
    "assert n % 2 == 1, f\"L'ordre {n} n'est pas impair.\"\n",
    "\n",
    "array = [[0 for j in range(n)] for i in range(n)]\n",
    "\n",
    "# Initialisation de l'algorithme\n",
    "i, j = n, (n + 1) // 2        # Indices de l'algo (1-indexation)\n",
    "array[i - 1][j - 1] = 1       # Attention: python utilise une 0-indexation\n",
    "\n",
    "# Boucle sur valeurs restant à inclure dans le carré (de 2 à n**2)\n",
    "for k in range(2, n**2 + 1):\n",
    "    # Test de la case i+1, j+1 (modulo n)\n",
    "    i2 = (i + 1) % n\n",
    "    j2 = (j + 1) % n\n",
    "    if array[i2 - 1][j2 - 1] == 0:  # La case est vide: l'utiliser\n",
    "        i, j = i2, j2\n",
    "    # La case est déjà remplie: utiliser la case i-1, j\n",
    "    else:\n",
    "        i = (i - 1) % n\n",
    "    array[i - 1][j - 1] = k       # Remplissage de la case\n",
    "\n",
    "# Affichage, avec vérification des sommes par ligne et par colonne\n",
    "print(f\"Carré magique d'ordre {n}:\")\n",
    "for row in array:\n",
    "    print('  '.join(f'{k:2d}' for k in row), '=', sum(row))\n",
    "print('  '.join('==' for k in row))\n",
    "print('  '.join(str(sum(array[i][j] for i in range(n))) for j in range(n)))"
   ]
  },
  {
   "cell_type": "code",
   "execution_count": null,
   "metadata": {},
   "outputs": [],
   "source": []
  }
 ],
 "metadata": {
  "kernelspec": {
   "display_name": "Python 3",
   "language": "python",
   "name": "python3"
  },
  "language_info": {
   "codemirror_mode": {
    "name": "ipython",
    "version": 3
   },
   "file_extension": ".py",
   "mimetype": "text/x-python",
   "name": "python",
   "nbconvert_exporter": "python",
   "pygments_lexer": "ipython3",
   "version": "3.7.6"
  }
 },
 "nbformat": 4,
 "nbformat_minor": 4
}
